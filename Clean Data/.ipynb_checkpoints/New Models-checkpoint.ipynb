{
 "cells": [
  {
   "cell_type": "code",
   "execution_count": 66,
   "metadata": {},
   "outputs": [],
   "source": [
    "# dependencies\n",
    "import pandas as pd\n",
    "import os\n",
    "import matplotlib.pyplot as plt\n",
    "import numpy as np\n",
    "import seaborn as sns"
   ]
  },
  {
   "cell_type": "code",
   "execution_count": 67,
   "metadata": {},
   "outputs": [],
   "source": [
    "# File to Load \n",
    "file_to_load = \"County_Data.csv\"\n",
    "\n",
    "\n",
    "# Read Purchasing File and store into Pandas data frame\n",
    "county_data = pd.read_csv(file_to_load)"
   ]
  },
  {
   "cell_type": "code",
   "execution_count": 68,
   "metadata": {},
   "outputs": [
    {
     "data": {
      "text/html": [
       "<div>\n",
       "<style scoped>\n",
       "    .dataframe tbody tr th:only-of-type {\n",
       "        vertical-align: middle;\n",
       "    }\n",
       "\n",
       "    .dataframe tbody tr th {\n",
       "        vertical-align: top;\n",
       "    }\n",
       "\n",
       "    .dataframe thead th {\n",
       "        text-align: right;\n",
       "    }\n",
       "</style>\n",
       "<table border=\"1\" class=\"dataframe\">\n",
       "  <thead>\n",
       "    <tr style=\"text-align: right;\">\n",
       "      <th></th>\n",
       "      <th>County Name</th>\n",
       "      <th>State</th>\n",
       "      <th>Graduation Rate</th>\n",
       "      <th>Poverty Rate</th>\n",
       "      <th>Household Size</th>\n",
       "      <th>Unemployment Rate</th>\n",
       "      <th>Median Income</th>\n",
       "      <th>Speak a language other than English</th>\n",
       "    </tr>\n",
       "  </thead>\n",
       "  <tbody>\n",
       "    <tr>\n",
       "      <th>0</th>\n",
       "      <td>ATLANTIC</td>\n",
       "      <td>NJ</td>\n",
       "      <td>0.90</td>\n",
       "      <td>14.8</td>\n",
       "      <td>2.70</td>\n",
       "      <td>8.5</td>\n",
       "      <td>61777</td>\n",
       "      <td>27.5</td>\n",
       "    </tr>\n",
       "    <tr>\n",
       "      <th>1</th>\n",
       "      <td>BERGEN</td>\n",
       "      <td>NJ</td>\n",
       "      <td>0.95</td>\n",
       "      <td>6.6</td>\n",
       "      <td>2.77</td>\n",
       "      <td>3.9</td>\n",
       "      <td>94107</td>\n",
       "      <td>40.2</td>\n",
       "    </tr>\n",
       "    <tr>\n",
       "      <th>2</th>\n",
       "      <td>BURLINGTON</td>\n",
       "      <td>NJ</td>\n",
       "      <td>0.93</td>\n",
       "      <td>6.3</td>\n",
       "      <td>2.66</td>\n",
       "      <td>5.1</td>\n",
       "      <td>87673</td>\n",
       "      <td>14.7</td>\n",
       "    </tr>\n",
       "    <tr>\n",
       "      <th>3</th>\n",
       "      <td>CAMDEN</td>\n",
       "      <td>NJ</td>\n",
       "      <td>0.88</td>\n",
       "      <td>11.5</td>\n",
       "      <td>2.65</td>\n",
       "      <td>6.4</td>\n",
       "      <td>66196</td>\n",
       "      <td>20.9</td>\n",
       "    </tr>\n",
       "    <tr>\n",
       "      <th>4</th>\n",
       "      <td>CAPE MAY</td>\n",
       "      <td>NJ</td>\n",
       "      <td>0.88</td>\n",
       "      <td>9.7</td>\n",
       "      <td>2.30</td>\n",
       "      <td>7.1</td>\n",
       "      <td>66953</td>\n",
       "      <td>9.7</td>\n",
       "    </tr>\n",
       "  </tbody>\n",
       "</table>\n",
       "</div>"
      ],
      "text/plain": [
       "  County Name State  Graduation Rate  Poverty Rate  Household Size  \\\n",
       "0    ATLANTIC    NJ             0.90          14.8            2.70   \n",
       "1      BERGEN    NJ             0.95           6.6            2.77   \n",
       "2  BURLINGTON    NJ             0.93           6.3            2.66   \n",
       "3      CAMDEN    NJ             0.88          11.5            2.65   \n",
       "4    CAPE MAY    NJ             0.88           9.7            2.30   \n",
       "\n",
       "   Unemployment Rate  Median Income  Speak a language other than English  \n",
       "0                8.5          61777                                 27.5  \n",
       "1                3.9          94107                                 40.2  \n",
       "2                5.1          87673                                 14.7  \n",
       "3                6.4          66196                                 20.9  \n",
       "4                7.1          66953                                  9.7  "
      ]
     },
     "execution_count": 68,
     "metadata": {},
     "output_type": "execute_result"
    }
   ],
   "source": [
    "df_county_data = pd.DataFrame(county_data)\n",
    "df_county_data.head()"
   ]
  },
  {
   "cell_type": "code",
   "execution_count": 69,
   "metadata": {},
   "outputs": [
    {
     "data": {
      "text/html": [
       "<div>\n",
       "<style scoped>\n",
       "    .dataframe tbody tr th:only-of-type {\n",
       "        vertical-align: middle;\n",
       "    }\n",
       "\n",
       "    .dataframe tbody tr th {\n",
       "        vertical-align: top;\n",
       "    }\n",
       "\n",
       "    .dataframe thead th {\n",
       "        text-align: right;\n",
       "    }\n",
       "</style>\n",
       "<table border=\"1\" class=\"dataframe\">\n",
       "  <thead>\n",
       "    <tr style=\"text-align: right;\">\n",
       "      <th></th>\n",
       "      <th>State</th>\n",
       "      <th>Graduation Rate</th>\n",
       "    </tr>\n",
       "    <tr>\n",
       "      <th>State</th>\n",
       "      <th></th>\n",
       "      <th></th>\n",
       "    </tr>\n",
       "  </thead>\n",
       "  <tbody>\n",
       "    <tr>\n",
       "      <th>NJ</th>\n",
       "      <td>NJ</td>\n",
       "      <td>0.906190</td>\n",
       "    </tr>\n",
       "    <tr>\n",
       "      <th>NY</th>\n",
       "      <td>NY</td>\n",
       "      <td>0.885484</td>\n",
       "    </tr>\n",
       "    <tr>\n",
       "      <th>PA</th>\n",
       "      <td>PA</td>\n",
       "      <td>0.897500</td>\n",
       "    </tr>\n",
       "  </tbody>\n",
       "</table>\n",
       "</div>"
      ],
      "text/plain": [
       "      State  Graduation Rate\n",
       "State                       \n",
       " NJ      NJ         0.906190\n",
       " NY     NY          0.885484\n",
       " PA      PA         0.897500"
      ]
     },
     "execution_count": 69,
     "metadata": {},
     "output_type": "execute_result"
    }
   ],
   "source": [
    "state_name = df_county_data[\"State\"].unique()\n",
    "grad_by_state = df_county_data.groupby([\"State\"])[\"Graduation Rate\"].mean()\n",
    "grad_by_state_df = pd.DataFrame({\"State\": state_name,\n",
    "                                 \"Graduation Rate\": grad_by_state\n",
    "                                })\n",
    "\n",
    "grad_by_state_df"
   ]
  },
  {
   "cell_type": "code",
   "execution_count": 70,
   "metadata": {},
   "outputs": [
    {
     "data": {
      "image/png": "[encoded data removed]",
      "text/plain": [
       "<Figure size 864x432 with 1 Axes>"
      ]
     },
     "metadata": {},
     "output_type": "display_data"
    }
   ],
   "source": [
    "fig, ax = plt.subplots(figsize = (12,6))\n",
    "plt.rcParams['font.sans-serif'] = 'Arial'\n",
    "plt.rcParams['font.family'] = 'sans-serif'\n",
    "plt.rcParams['text.color'] = '#909090'\n",
    "plt.rcParams['axes.labelcolor']= '#909090'\n",
    "plt.rcParams['xtick.color'] = '#909090'\n",
    "plt.rcParams['ytick.color'] = '#909090'\n",
    "plt.rcParams['font.size']=12\n",
    "color_palette_list = ['#009ACD', '#ADD8E6', '#63D1F4', '#0EBFE9',   \n",
    "                      '#C1F0F6', '#0099CC']\n",
    "\n",
    "ind = np.arange(len(grad_by_state_df['State']))\n",
    "bars1 = ax.bar(ind, grad_by_state_df['Graduation Rate'], \n",
    "        color = color_palette_list) \n",
    "\n",
    "ax.set_title(\"Graduation Rates by State\")\n",
    "ax.set_ylabel(\"% Graduation Rates\")\n",
    "ax.set_ylim((0,1))\n",
    "ax.set_xticks(range(0,len(ind)))\n",
    "ax.set_xticklabels(list(grad_by_state_df['State']), rotation=70)\n",
    "ax.set_xlabel(\"States\")\n",
    "\n",
    "# Save an image of the chart and print it to the screen\n",
    "plt.savefig(\"Images/State1.png\", bbox_inches = \"tight\")\n",
    "plt.show()"
   ]
  },
  {
   "cell_type": "code",
   "execution_count": 71,
   "metadata": {},
   "outputs": [
    {
     "data": {
      "image/png": "[encoded data removed]",
      "text/plain": [
       "<Figure size 864x432 with 1 Axes>"
      ]
     },
     "metadata": {},
     "output_type": "display_data"
    }
   ],
   "source": [
    "pov_by_state = df_county_data.groupby([\"State\"])[\"Poverty Rate\"].mean()\n",
    "pov_by_state_df = pd.DataFrame({\"State\": state_name,\n",
    "                                 \"Poverty Rate\": pov_by_state\n",
    "                                })\n",
    "fig, ax = plt.subplots(figsize = (12,6))\n",
    "plt.rcParams['font.sans-serif'] = 'Arial'\n",
    "plt.rcParams['font.family'] = 'sans-serif'\n",
    "plt.rcParams['text.color'] = '#909090'\n",
    "plt.rcParams['axes.labelcolor']= '#909090'\n",
    "plt.rcParams['xtick.color'] = '#909090'\n",
    "plt.rcParams['ytick.color'] = '#909090'\n",
    "plt.rcParams['font.size']=12\n",
    "color_palette_list = ['#009ACD', '#ADD8E6', '#63D1F4', '#0EBFE9',   \n",
    "                      '#C1F0F6', '#0099CC']\n",
    "\n",
    "ind = np.arange(len(pov_by_state_df['State']))\n",
    "bars1 = ax.bar(ind, pov_by_state_df['Poverty Rate'], \n",
    "        color = color_palette_list) \n",
    "\n",
    "ax.set_title(\"Poverty Rates by State\")\n",
    "ax.set_ylabel(\"% Poverty Rates\")\n",
    "ax.set_ylim((0,25))\n",
    "ax.set_xticks(range(0,len(ind)))\n",
    "ax.set_xticklabels(list(grad_by_state_df['State']), rotation=70)\n",
    "ax.set_xlabel(\"States\")\n",
    "\n",
    "# Save an image of the chart and print it to the screen\n",
    "plt.savefig(\"Images/State2.png\", bbox_inches = \"tight\")\n",
    "plt.show()"
   ]
  },
  {
   "cell_type": "code",
   "execution_count": 72,
   "metadata": {},
   "outputs": [
    {
     "data": {
      "image/png": "[encoded data removed]",
      "text/plain": [
       "<Figure size 864x432 with 1 Axes>"
      ]
     },
     "metadata": {},
     "output_type": "display_data"
    }
   ],
   "source": [
    "hou_by_state = df_county_data.groupby([\"State\"])[\"Household Size\"].mean()\n",
    "hou_by_state_df = pd.DataFrame({\"State\": state_name,\n",
    "                                 \"Household Size\": hou_by_state\n",
    "                                })\n",
    "fig, ax = plt.subplots(figsize = (12,6))\n",
    "plt.rcParams['font.sans-serif'] = 'Arial'\n",
    "plt.rcParams['font.family'] = 'sans-serif'\n",
    "plt.rcParams['text.color'] = '#909090'\n",
    "plt.rcParams['axes.labelcolor']= '#909090'\n",
    "plt.rcParams['xtick.color'] = '#909090'\n",
    "plt.rcParams['ytick.color'] = '#909090'\n",
    "plt.rcParams['font.size']=12\n",
    "color_palette_list = ['#009ACD', '#ADD8E6', '#63D1F4', '#0EBFE9',   \n",
    "                      '#C1F0F6', '#0099CC']\n",
    "\n",
    "ind = np.arange(len(hou_by_state_df['State']))\n",
    "bars1 = ax.bar(ind, hou_by_state_df['Household Size'], \n",
    "        color = color_palette_list) \n",
    "\n",
    "ax.set_title(\"Household Size by State\")\n",
    "ax.set_ylabel(\"Household Sizes (Persons)\")\n",
    "ax.set_ylim((0,3.0))\n",
    "ax.set_xticks(range(0,len(ind)))\n",
    "ax.set_xticklabels(list(grad_by_state_df['State']), rotation=70)\n",
    "ax.set_xlabel(\"States\")\n",
    "\n",
    "# Save an image of the chart and print it to the screen\n",
    "plt.savefig(\"Images/State3.png\", bbox_inches = \"tight\")\n",
    "plt.show()"
   ]
  },
  {
   "cell_type": "code",
   "execution_count": 73,
   "metadata": {},
   "outputs": [
    {
     "data": {
      "image/png": "[encoded data removed]",
      "text/plain": [
       "<Figure size 864x432 with 1 Axes>"
      ]
     },
     "metadata": {},
     "output_type": "display_data"
    }
   ],
   "source": [
    "un_by_state = df_county_data.groupby([\"State\"])[\"Unemployment Rate\"].mean()\n",
    "un_by_state_df = pd.DataFrame({\"State\": state_name,\n",
    "                                 \"Unemployment Rate\": un_by_state\n",
    "                                })\n",
    "fig, ax = plt.subplots(figsize = (12,6))\n",
    "plt.rcParams['font.sans-serif'] = 'Arial'\n",
    "plt.rcParams['font.family'] = 'sans-serif'\n",
    "plt.rcParams['text.color'] = '#909090'\n",
    "plt.rcParams['axes.labelcolor']= '#909090'\n",
    "plt.rcParams['xtick.color'] = '#909090'\n",
    "plt.rcParams['ytick.color'] = '#909090'\n",
    "plt.rcParams['font.size']=12\n",
    "color_palette_list = ['#009ACD', '#ADD8E6', '#63D1F4', '#0EBFE9',   \n",
    "                      '#C1F0F6', '#0099CC']\n",
    "\n",
    "ind = np.arange(len(un_by_state_df['State']))\n",
    "bars1 = ax.bar(ind, un_by_state_df['Unemployment Rate'], \n",
    "        color = color_palette_list) \n",
    "\n",
    "ax.set_title(\"Unemployment Rate by State\")\n",
    "ax.set_ylabel(\"% Unemployment Rates\")\n",
    "ax.set_ylim((0,6.0))\n",
    "ax.set_xticks(range(0,len(ind)))\n",
    "ax.set_xticklabels(list(grad_by_state_df['State']), rotation=70)\n",
    "ax.set_xlabel(\"States\")\n",
    "\n",
    "# Save an image of the chart and print it to the screen\n",
    "plt.savefig(\"Images/State4.png\", bbox_inches = \"tight\")\n",
    "plt.show()"
   ]
  },
  {
   "cell_type": "code",
   "execution_count": 74,
   "metadata": {},
   "outputs": [
    {
     "data": {
      "image/png": "[encoded data removed]",
      "text/plain": [
       "<Figure size 864x432 with 1 Axes>"
      ]
     },
     "metadata": {},
     "output_type": "display_data"
    }
   ],
   "source": [
    "\n",
    "me_by_state = df_county_data.groupby([\"State\"])[\"Median Income\"].mean()\n",
    "me_by_state_df = pd.DataFrame({\"State\": state_name,\n",
    "                                 \"Median Income\": me_by_state\n",
    "                                })\n",
    "fig, ax = plt.subplots(figsize = (12,6))\n",
    "plt.rcParams['font.sans-serif'] = 'Arial'\n",
    "plt.rcParams['font.family'] = 'sans-serif'\n",
    "plt.rcParams['text.color'] = '#909090'\n",
    "plt.rcParams['axes.labelcolor']= '#909090'\n",
    "plt.rcParams['xtick.color'] = '#909090'\n",
    "plt.rcParams['ytick.color'] = '#909090'\n",
    "plt.rcParams['font.size']=12\n",
    "color_palette_list = ['#009ACD', '#ADD8E6', '#63D1F4', '#0EBFE9',   \n",
    "                      '#C1F0F6', '#0099CC']\n",
    "\n",
    "ind = np.arange(len(me_by_state_df['State']))\n",
    "bars1 = ax.bar(ind, me_by_state_df['Median Income'], \n",
    "        color = color_palette_list) \n",
    "\n",
    "ax.set_title(\"Median Income by State\")\n",
    "ax.set_ylabel(\"$ Median Income\")\n",
    "ax.set_ylim((0,100000))\n",
    "ax.set_xticks(range(0,len(ind)))\n",
    "ax.set_xticklabels(list(grad_by_state_df['State']), rotation=70)\n",
    "ax.set_xlabel(\"States\")\n",
    "\n",
    "# Save an image of the chart and print it to the screen\n",
    "plt.savefig(\"Images/State5.png\", bbox_inches = \"tight\")\n",
    "plt.show()"
   ]
  },
  {
   "cell_type": "code",
   "execution_count": 76,
   "metadata": {},
   "outputs": [
    {
     "data": {
      "image/png": "[encoded data removed]",
      "text/plain": [
       "<Figure size 864x432 with 1 Axes>"
      ]
     },
     "metadata": {},
     "output_type": "display_data"
    }
   ],
   "source": [
    "# Speak a language other than English\n",
    "\n",
    "pk_by_state = df_county_data.groupby([\"State\"])[\"Speak a language other than English\"].mean()\n",
    "pk_by_state_df = pd.DataFrame({\"State\": state_name,\n",
    "                                 \"Speak a language other than English\": pk_by_state\n",
    "                                })\n",
    "fig, ax = plt.subplots(figsize = (12,6))\n",
    "plt.rcParams['font.sans-serif'] = 'Arial'\n",
    "plt.rcParams['font.family'] = 'sans-serif'\n",
    "plt.rcParams['text.color'] = '#909090'\n",
    "plt.rcParams['axes.labelcolor']= '#909090'\n",
    "plt.rcParams['xtick.color'] = '#909090'\n",
    "plt.rcParams['ytick.color'] = '#909090'\n",
    "plt.rcParams['font.size']=12\n",
    "color_palette_list = ['#009ACD', '#ADD8E6', '#63D1F4', '#0EBFE9',   \n",
    "                      '#C1F0F6', '#0099CC']\n",
    "\n",
    "ind = np.arange(len(pk_by_state_df['State']))\n",
    "bars1 = ax.bar(ind, pk_by_state_df['Speak a language other than English'], \n",
    "        color = color_palette_list) \n",
    "\n",
    "ax.set_title(\"Speak a language other than English by State\")\n",
    "ax.set_ylabel(\"% Speak a language other than English\")\n",
    "ax.set_ylim((0,27.5))\n",
    "ax.set_xticks(range(0,len(ind)))\n",
    "ax.set_xticklabels(list(grad_by_state_df['State']), rotation=70)\n",
    "ax.set_xlabel(\"States\")\n",
    "\n",
    "# Save an image of the chart and print it to the screen\n",
    "plt.savefig(\"Images/State6.png\", bbox_inches = \"tight\")\n",
    "plt.show()"
   ]
  },
  {
   "cell_type": "code",
   "execution_count": null,
   "metadata": {},
   "outputs": [],
   "source": []
  }
 ],
 "metadata": {
  "kernelspec": {
   "display_name": "Python 3",
   "language": "python",
   "name": "python3"
  },
  "language_info": {
   "codemirror_mode": {
    "name": "ipython",
    "version": 3
   },
   "file_extension": ".py",
   "mimetype": "text/x-python",
   "name": "python",
   "nbconvert_exporter": "python",
   "pygments_lexer": "ipython3",
   "version": "3.6.5"
  }
 },
 "nbformat": 4,
 "nbformat_minor": 2
}
